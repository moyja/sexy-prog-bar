{
 "cells": [
  {
   "cell_type": "code",
   "execution_count": 1,
   "id": "5b9a4a34-302d-42cd-ab9f-81bde751037b",
   "metadata": {},
   "outputs": [],
   "source": [
    "from sexy_prog_bar import *\n"
   ]
  },
  {
   "cell_type": "code",
   "execution_count": 2,
   "id": "ac242253-4077-4e4c-9026-0397ec568721",
   "metadata": {},
   "outputs": [
    {
     "name": "stdout",
     "output_type": "stream",
     "text": [
      "TIME:  yommytime  =  0.19743633270263672\n"
     ]
    }
   ],
   "source": [
    "# here is tic toc example:\n",
    "\n",
    "L = 1000\n",
    "\n",
    "tic()\n",
    "A = rand(L,L) @ rand(L,L)\n",
    "toc()"
   ]
  },
  {
   "cell_type": "code",
   "execution_count": 3,
   "id": "beeec557-6eaa-4f85-b6ee-64e3541efbb6",
   "metadata": {},
   "outputs": [
    {
     "name": "stdout",
     "output_type": "stream",
     "text": [
      "     13  >                                                       »--><        \r"
     ]
    }
   ],
   "source": [
    "# and the progress bar example:\n",
    "N = 100\n",
    "for i in range(N):\n",
    "    nubar(i/N)\n",
    "    A = rand(L,L) @ rand(L,L)"
   ]
  }
 ],
 "metadata": {
  "kernelspec": {
   "display_name": "Python 3 (ipykernel)",
   "language": "python",
   "name": "python3"
  },
  "language_info": {
   "codemirror_mode": {
    "name": "ipython",
    "version": 3
   },
   "file_extension": ".py",
   "mimetype": "text/x-python",
   "name": "python",
   "nbconvert_exporter": "python",
   "pygments_lexer": "ipython3",
   "version": "3.9.16"
  }
 },
 "nbformat": 4,
 "nbformat_minor": 5
}
