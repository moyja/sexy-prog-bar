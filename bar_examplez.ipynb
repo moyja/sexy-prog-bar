{
 "cells": [
  {
   "cell_type": "code",
   "execution_count": 1,
   "id": "5b9a4a34-302d-42cd-ab9f-81bde751037b",
   "metadata": {},
   "outputs": [],
   "source": [
    "from sexy_prog_bar import *\n",
    "from numpy.random import rand"
   ]
  },
  {
   "cell_type": "code",
   "execution_count": 2,
   "id": "ac242253-4077-4e4c-9026-0397ec568721",
   "metadata": {},
   "outputs": [
    {
     "name": "stdout",
     "output_type": "stream",
     "text": [
      "TIME: yommytime : delta = 0.11848139762878418\n"
     ]
    },
    {
     "data": {
      "text/plain": [
       "0.11848139762878418"
      ]
     },
     "execution_count": 2,
     "metadata": {},
     "output_type": "execute_result"
    }
   ],
   "source": [
    "# here is tic toc example:\n",
    "\n",
    "L = 1000\n",
    "\n",
    "tic()\n",
    "A = rand(L,L) @ rand(L,L)\n",
    "toc()"
   ]
  },
  {
   "cell_type": "code",
   "execution_count": 3,
   "id": "beeec557-6eaa-4f85-b6ee-64e3541efbb6",
   "metadata": {},
   "outputs": [
    {
     "name": "stdout",
     "output_type": "stream",
     "text": [
      " 9  X                                                      »--X          \n"
     ]
    }
   ],
   "source": [
    "# and the progress bar example:\n",
    "N = 100\n",
    "for i in range(N):\n",
    "    xbar(i/N)\n",
    "    A = rand(L,L) @ rand(L,L)"
   ]
  },
  {
   "cell_type": "code",
   "execution_count": 4,
   "id": "875dfa0c-8ff7-4015-ba4b-6eab3dd8353f",
   "metadata": {},
   "outputs": [
    {
     "name": "stdout",
     "output_type": "stream",
     "text": [
      "{'yommytime': 1715821945.3208275, 'sexbar': 1715821945.4821239}\n",
      "{'sexbar': 0.99}\n"
     ]
    }
   ],
   "source": [
    "print(MY_TIMES)\n",
    "print(PAST_POINTS)"
   ]
  },
  {
   "cell_type": "code",
   "execution_count": null,
   "id": "8fe3a4fd-1a7f-481c-88e6-6081eacb167a",
   "metadata": {},
   "outputs": [],
   "source": []
  }
 ],
 "metadata": {
  "kernelspec": {
   "display_name": "Python 3 (ipykernel)",
   "language": "python",
   "name": "python3"
  },
  "language_info": {
   "codemirror_mode": {
    "name": "ipython",
    "version": 3
   },
   "file_extension": ".py",
   "mimetype": "text/x-python",
   "name": "python",
   "nbconvert_exporter": "python",
   "pygments_lexer": "ipython3",
   "version": "3.11.9"
  }
 },
 "nbformat": 4,
 "nbformat_minor": 5
}
